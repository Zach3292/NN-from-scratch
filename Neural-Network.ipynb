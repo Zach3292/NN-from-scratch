{
 "cells": [
  {
   "cell_type": "code",
   "execution_count": 2,
   "metadata": {},
   "outputs": [],
   "source": [
    "import numpy as np\n",
    "import pandas as pd\n",
    "from matplotlib import pyplot as plt"
   ]
  },
  {
   "cell_type": "code",
   "execution_count": 3,
   "metadata": {},
   "outputs": [],
   "source": [
    "dataTest = pd.read_csv(\"dataset/mnist_test.csv\")\n",
    "dataTrain = pd.read_csv(\"dataset/mnist_train.csv\")\n",
    "\n",
    "dataTest = np.array(dataTest)\n",
    "dataTrain = np.array(dataTrain)\n",
    "\n",
    "m, n = dataTrain.shape\n",
    "np.random.shuffle(dataTrain)\n",
    "np.random.shuffle(dataTest)\n",
    "\n",
    "dataTrain = dataTrain[0:m].T\n",
    "dataTest = dataTest[0:m].T\n",
    "\n",
    "\n",
    "yTest = dataTest[0]\n",
    "xTest = dataTest[1:n]\n",
    "yTrain = dataTrain[0]\n",
    "xTrain = dataTrain[1:n]\n",
    "\n",
    "xTest = xTest / 255.\n",
    "xTrain = xTrain / 255.\n"
   ]
  },
  {
   "cell_type": "code",
   "execution_count": 4,
   "metadata": {},
   "outputs": [],
   "source": [
    "def init_params():\n",
    "    w1 = np.random.rand(10, 784) - 0.5\n",
    "    b1 = np.random.rand(10, 1) - 0.5\n",
    "    w2 = np.random.rand(10, 10) - 0.5\n",
    "    b2 = np.random.rand(10, 1) - 0.5\n",
    "    return w1, b1, w2, b2\n",
    "\n",
    "def relu(z):\n",
    "    return np.maximum(0, z)\n",
    "\n",
    "def softmax(z):\n",
    "    a = np.exp(z) / sum(np.exp(z))\n",
    "    return a\n",
    "\n",
    "def forward_prop(w1, b1, w2, b2, x):\n",
    "    z1 = w1.dot(x) + b1\n",
    "    a1 = relu(z1)\n",
    "    z2 = w2.dot(a1) + b2\n",
    "    a2 = softmax(z2)\n",
    "    return z1, a1, z2, a2\n",
    "\n",
    "def one_hot(y):\n",
    "    oneHotY = np.zeros((y.size, y.max() + 1))\n",
    "    oneHotY[np.arange(y.size), y] = 1\n",
    "    oneHotY = oneHotY.T\n",
    "    return oneHotY\n",
    "\n",
    "def deriveRelu(z):\n",
    "    return z > 0\n",
    "\n",
    "def backward_prop(z1, a1, z2, a2, w1, w2, x, y):\n",
    "    m = y.size\n",
    "    oneHotY = one_hot(y)\n",
    "    dz2 = a2 - oneHotY\n",
    "    dw2 = 1 / m * dz2.dot(a1.T)\n",
    "    db2 = 1 / m * np.sum(dz2)\n",
    "    dz1 = w2.T.dot(dz2) * deriveRelu(z1)\n",
    "    dw1 = 1 / m * dz1.dot(x.T)\n",
    "    db1 = 1 / m * np.sum(dz1)\n",
    "    return dw1, db1, dw2, db2\n",
    "\n",
    "def update_params(w1, b1, w2, b2, dw1, db1, dw2, db2, alpha):\n",
    "    w1 = w1 - alpha * dw1\n",
    "    b1 = b1 - alpha * db1\n",
    "    w2 = w2 - alpha * dw2\n",
    "    b2 = b2 - alpha * db2\n",
    "    return w1, b1, w2, b2"
   ]
  },
  {
   "cell_type": "code",
   "execution_count": 5,
   "metadata": {},
   "outputs": [],
   "source": [
    "def get_predictions(a2):\n",
    "    return np.argmax(a2, 0)\n",
    "\n",
    "def get_accuracy(predictions, y):\n",
    "    print(predictions, y)\n",
    "    return np.sum(predictions == y) / y.size\n",
    "\n",
    "def gradient_descent(x, y, iterations, alpha):\n",
    "    w1, b1, w2, b2 = init_params()\n",
    "    for i in range(iterations):\n",
    "        z1, a1, z2, a2 = forward_prop(w1, b1, w2, b2, x)\n",
    "        dw1, db1, dw2, db2 = backward_prop(z1, a1, z2, a2, w1, w2, x, y)\n",
    "        w1, b1, w2, b2 = update_params(w1, b1, w2, b2, dw1, db1, dw2, db2, alpha)\n",
    "        if i % 50 == 0:\n",
    "            print(\"Iteration:\", i)\n",
    "            print(\"Accuracy: \", get_accuracy(get_predictions(a2), y))\n",
    "    return w1, b1, w2, b2"
   ]
  },
  {
   "cell_type": "code",
   "execution_count": 6,
   "metadata": {},
   "outputs": [
    {
     "name": "stdout",
     "output_type": "stream",
     "text": [
      "Iteration: 0\n",
      "[7 9 5 ... 4 3 5] [2 2 5 ... 3 2 5]\n",
      "Accuracy:  0.13078333333333333\n",
      "Iteration: 50\n",
      "[7 2 0 ... 8 3 0] [2 2 5 ... 3 2 5]\n",
      "Accuracy:  0.35258333333333336\n",
      "Iteration: 100\n",
      "[2 2 0 ... 3 8 0] [2 2 5 ... 3 2 5]\n",
      "Accuracy:  0.52\n",
      "Iteration: 150\n",
      "[2 2 5 ... 3 2 0] [2 2 5 ... 3 2 5]\n",
      "Accuracy:  0.6206666666666667\n",
      "Iteration: 200\n",
      "[2 2 5 ... 3 2 0] [2 2 5 ... 3 2 5]\n",
      "Accuracy:  0.7029666666666666\n",
      "Iteration: 250\n",
      "[2 1 5 ... 3 8 0] [2 2 5 ... 3 2 5]\n",
      "Accuracy:  0.7834833333333333\n",
      "Iteration: 300\n",
      "[2 2 5 ... 3 8 0] [2 2 5 ... 3 2 5]\n",
      "Accuracy:  0.8078666666666666\n",
      "Iteration: 350\n",
      "[2 2 5 ... 3 8 0] [2 2 5 ... 3 2 5]\n",
      "Accuracy:  0.8215666666666667\n",
      "Iteration: 400\n",
      "[2 2 5 ... 3 2 0] [2 2 5 ... 3 2 5]\n",
      "Accuracy:  0.8321166666666666\n",
      "Iteration: 450\n",
      "[2 2 5 ... 3 2 0] [2 2 5 ... 3 2 5]\n",
      "Accuracy:  0.8398166666666667\n",
      "Iteration: 500\n",
      "[2 2 5 ... 3 2 0] [2 2 5 ... 3 2 5]\n",
      "Accuracy:  0.8460166666666666\n",
      "Iteration: 550\n",
      "[2 2 5 ... 3 2 0] [2 2 5 ... 3 2 5]\n",
      "Accuracy:  0.8516333333333334\n",
      "Iteration: 600\n",
      "[2 2 5 ... 3 2 0] [2 2 5 ... 3 2 5]\n",
      "Accuracy:  0.8563833333333334\n",
      "Iteration: 650\n",
      "[2 2 5 ... 3 2 0] [2 2 5 ... 3 2 5]\n",
      "Accuracy:  0.86075\n",
      "Iteration: 700\n",
      "[2 2 5 ... 3 2 0] [2 2 5 ... 3 2 5]\n",
      "Accuracy:  0.8642333333333333\n",
      "Iteration: 750\n",
      "[2 2 5 ... 3 2 0] [2 2 5 ... 3 2 5]\n",
      "Accuracy:  0.8668833333333333\n",
      "Iteration: 800\n",
      "[2 2 5 ... 3 2 0] [2 2 5 ... 3 2 5]\n",
      "Accuracy:  0.8693\n",
      "Iteration: 850\n",
      "[2 2 5 ... 3 2 0] [2 2 5 ... 3 2 5]\n",
      "Accuracy:  0.872\n",
      "Iteration: 900\n",
      "[2 2 5 ... 3 2 0] [2 2 5 ... 3 2 5]\n",
      "Accuracy:  0.8740333333333333\n",
      "Iteration: 950\n",
      "[2 2 5 ... 3 2 0] [2 2 5 ... 3 2 5]\n",
      "Accuracy:  0.87595\n"
     ]
    }
   ],
   "source": [
    "w1, b1, w2, b2 = gradient_descent(xTrain, yTrain, 1000, 0.1)"
   ]
  },
  {
   "cell_type": "code",
   "execution_count": 7,
   "metadata": {},
   "outputs": [],
   "source": [
    "def make_prediction(x, w1, b1, w2, b2):\n",
    "    _, _, _, a2 = forward_prop(w1, b1, w2, b2, x)\n",
    "    predictions = get_predictions(a2)\n",
    "    return predictions\n",
    "\n",
    "def test_predictions(index, w1, b1, w2, b2):\n",
    "    current_image = xTrain[:, index, None]\n",
    "    prediction = make_prediction(xTrain[:, index, None], w1, b1, w2, b2)\n",
    "    label = yTrain[index]\n",
    "    print(\"Prediction: \", prediction)\n",
    "    print(\"Label: \", label)\n",
    "\n",
    "    current_image = current_image.reshape((28, 28)) * 255\n",
    "    plt.gray\n",
    "    plt.imshow(current_image, interpolation=\"nearest\")\n",
    "    plt.show"
   ]
  },
  {
   "cell_type": "code",
   "execution_count": 11,
   "metadata": {},
   "outputs": [
    {
     "name": "stdout",
     "output_type": "stream",
     "text": [
      "Prediction:  [2]\n",
      "Label:  2\n",
      "Prediction:  [5]\n",
      "Label:  5\n",
      "Prediction:  [0]\n",
      "Label:  0\n",
      "Prediction:  [3]\n",
      "Label:  3\n"
     ]
    },
    {
     "data": {
      "image/png": "[encoded data removed]",
      "text/plain": [
       "<Figure size 640x480 with 1 Axes>"
      ]
     },
     "metadata": {},
     "output_type": "display_data"
    }
   ],
   "source": [
    "test_predictions(1, w1, b1, w2, b2)\n",
    "test_predictions(2, w1, b1, w2, b2)\n",
    "test_predictions(3, w1, b1, w2, b2)\n",
    "test_predictions(4, w1, b1, w2, b2)\n",
    "test_predictions(5, w1, b1, w2, b2)\n",
    "test_predictions(6, w1, b1, w2, b2)\n",
    "test_predictions(7, w1, b1, w2, b2)\n",
    "test_predictions(8, w1, b1, w2, b2)\n",
    "test_predictions(9, w1, b1, w2, b2)\n",
    "test_predictions(10, w1, b1, w2, b2)"
   ]
  },
  {
   "cell_type": "code",
   "execution_count": 12,
   "metadata": {},
   "outputs": [
    {
     "name": "stdout",
     "output_type": "stream",
     "text": [
      "[3 0 8 ... 2 8 8] [5 0 8 ... 2 8 8]\n"
     ]
    },
    {
     "data": {
      "text/plain": [
       "0.8798"
      ]
     },
     "execution_count": 12,
     "metadata": {},
     "output_type": "execute_result"
    }
   ],
   "source": [
    "dev_predictions = make_prediction(xTest, w1, b1, w2, b2)\n",
    "get_accuracy(dev_predictions, yTest)"
   ]
  }
 ],
 "metadata": {
  "kernelspec": {
   "display_name": "Python 3",
   "language": "python",
   "name": "python3"
  },
  "language_info": {
   "codemirror_mode": {
    "name": "ipython",
    "version": 3
   },
   "file_extension": ".py",
   "mimetype": "text/x-python",
   "name": "python",
   "nbconvert_exporter": "python",
   "pygments_lexer": "ipython3",
   "version": "3.10.10"
  },
  "orig_nbformat": 4
 },
 "nbformat": 4,
 "nbformat_minor": 2
}
